{
 "cells": [
  {
   "cell_type": "markdown",
   "metadata": {},
   "source": [
    "# 1. Create a 3x3x3 array with random values "
   ]
  },
  {
   "cell_type": "code",
   "execution_count": 4,
   "metadata": {},
   "outputs": [
    {
     "name": "stdout",
     "output_type": "stream",
     "text": [
      "[[[  1   2   3]\n",
      "  [  4   5   6]\n",
      "  [  7   8   9]]\n",
      "\n",
      " [[ 11  22  33]\n",
      "  [ 44  55  66]\n",
      "  [ 77  88  99]]\n",
      "\n",
      " [[111 222 333]\n",
      "  [444 555 666]\n",
      "  [777 888 999]]]\n"
     ]
    },
    {
     "data": {
      "text/plain": [
       "(3, 3, 3)"
      ]
     },
     "execution_count": 4,
     "metadata": {},
     "output_type": "execute_result"
    }
   ],
   "source": [
    "import numpy as np\n",
    "\n",
    "a1 = np.array([[[1,2,3],[4,5,6],[7,8,9]],[[11,22,33],[44,55,66],[77,88,99]],[[111,222,333],[444,555,666],[777,888,999]]])\n",
    "print(a1)\n",
    "a1.shape"
   ]
  },
  {
   "cell_type": "markdown",
   "metadata": {},
   "source": [
    "# 2.Create a 5x5 matrix with values 1,2,3,4 just below the diagonal"
   ]
  },
  {
   "cell_type": "code",
   "execution_count": 26,
   "metadata": {},
   "outputs": [
    {
     "name": "stdout",
     "output_type": "stream",
     "text": [
      "[[0. 0. 0. 0. 0.]\n",
      " [1. 0. 0. 0. 0.]\n",
      " [0. 2. 0. 0. 0.]\n",
      " [0. 0. 3. 0. 0.]\n",
      " [0. 0. 0. 4. 0.]]\n",
      "5\n"
     ]
    }
   ],
   "source": [
    "import numpy as np\n",
    "\n",
    "a2= np.zeros((5,5))\n",
    "a2[1,0]=1\n",
    "a2[2,1]=2\n",
    "a2[3,2]=3\n",
    "a2[4,3]=4\n",
    "print(a2)\n"
   ]
  },
  {
   "cell_type": "markdown",
   "metadata": {},
   "source": [
    "# 3.Create a 8x8 matrix and fill it with a checkerboard pattern"
   ]
  },
  {
   "cell_type": "code",
   "execution_count": 31,
   "metadata": {},
   "outputs": [
    {
     "name": "stdout",
     "output_type": "stream",
     "text": [
      "[[1. 0. 1. 0. 1. 0. 1. 0.]\n",
      " [0. 1. 0. 1. 0. 1. 0. 1.]\n",
      " [1. 0. 1. 0. 1. 0. 1. 0.]\n",
      " [0. 1. 0. 1. 0. 1. 0. 1.]\n",
      " [1. 0. 1. 0. 1. 0. 1. 0.]\n",
      " [0. 1. 0. 1. 0. 1. 0. 1.]\n",
      " [1. 0. 1. 0. 1. 0. 1. 0.]\n",
      " [0. 1. 0. 1. 0. 1. 0. 1.]]\n"
     ]
    }
   ],
   "source": [
    "import numpy as np\n",
    "\n",
    "a3= np.zeros((8,8))\n",
    "for i in range(a3.shape[1]):\n",
    "    for j in range(a3.shape[1]):\n",
    "        if ((i+j)%2 == 0):\n",
    "            a3[i][j]= 1\n",
    "        \n",
    "print(a3)"
   ]
  },
  {
   "cell_type": "markdown",
   "metadata": {},
   "source": [
    "# 4. Normalize a 5x5 random matrix"
   ]
  },
  {
   "cell_type": "code",
   "execution_count": 46,
   "metadata": {},
   "outputs": [
    {
     "name": "stdout",
     "output_type": "stream",
     "text": [
      "[[0.4939864  0.9828013  0.73167178]\n",
      " [0.66557018 0.92860295 0.44944831]\n",
      " [0.23285805 0.87918393 0.49408909]]\n",
      "\n",
      "\n",
      " [[0.34819748 1.         0.66513531]\n",
      " [0.57699317 0.92773006 0.28880886]\n",
      " [0.         0.86183306 0.34833441]]\n"
     ]
    }
   ],
   "source": [
    "a4= np.random.random((3,3))\n",
    "\n",
    "print(a4)\n",
    "dmax = a4.max()\n",
    "dmin = a4.min()\n",
    "a4 = (a4 - dmin)/(dmax - dmin)\n",
    "\n",
    "print(\"\\n\\n\",a4)"
   ]
  },
  {
   "cell_type": "markdown",
   "metadata": {},
   "source": [
    "# 5.  How to find common values between two arrays?"
   ]
  },
  {
   "cell_type": "code",
   "execution_count": 54,
   "metadata": {},
   "outputs": [
    {
     "name": "stdout",
     "output_type": "stream",
     "text": [
      "7\n",
      "9\n"
     ]
    }
   ],
   "source": [
    "a5 = np.array([7,8,9])\n",
    "a6 =np.array([9,10,7])\n",
    "for i in a5.flatten():\n",
    "    if i in a6.flatten():\n",
    "        print(i)"
   ]
  },
  {
   "cell_type": "markdown",
   "metadata": {},
   "source": [
    "# 6.How to get the dates of yesterday, today and tomorrow?"
   ]
  },
  {
   "cell_type": "code",
   "execution_count": 55,
   "metadata": {},
   "outputs": [
    {
     "name": "stdout",
     "output_type": "stream",
     "text": [
      "Yestraday's Date:  2020-07-26\n",
      "Today's Date:  2020-07-27\n",
      "Tomorrow's Date:  2020-07-28\n"
     ]
    }
   ],
   "source": [
    "yesterday = np.datetime64('today') - np.timedelta64(1)\n",
    "print(\"Yestraday's Date: \",yesterday)\n",
    "today     = np.datetime64('today')\n",
    "print(\"Today's Date: \",today)\n",
    "tomorrow  = np.datetime64('today') + np.timedelta64(1)\n",
    "print(\"Tomorrow's Date: \",tomorrow)"
   ]
  },
  {
   "cell_type": "markdown",
   "metadata": {},
   "source": [
    "# 7. Consider two random array A and B, check if they are equal"
   ]
  },
  {
   "cell_type": "code",
   "execution_count": 61,
   "metadata": {},
   "outputs": [
    {
     "name": "stdout",
     "output_type": "stream",
     "text": [
      "False\n",
      "[[False False]\n",
      " [False False]]\n"
     ]
    }
   ],
   "source": [
    "A = np.random.random((2,2))\n",
    "B = np.random.random((2,2))\n",
    "print((A==B).all()) # The whole array or matrix comparison\n",
    "print(A==B) # Element-wise comparison"
   ]
  },
  {
   "cell_type": "markdown",
   "metadata": {},
   "source": [
    "# 8.Create random vector of size 10 and replace the maximum value by 0 "
   ]
  },
  {
   "cell_type": "code",
   "execution_count": 62,
   "metadata": {},
   "outputs": [
    {
     "name": "stdout",
     "output_type": "stream",
     "text": [
      "[0.58666791 0.65237451 0.77784482 0.08035887 0.8836623  0.54293384\n",
      " 0.98869112 0.66272045 0.81100354 0.48631775]\n",
      "0.9886911179163205\n",
      "[0.58666791 0.65237451 0.77784482 0.08035887 0.8836623  0.54293384\n",
      " 0.         0.66272045 0.81100354 0.48631775]\n"
     ]
    }
   ],
   "source": [
    "a7 = np.random.random(10)\n",
    "print(a7)\n",
    "print(a7.max())\n",
    "for i in range(len(a7)):\n",
    "    if a7[i] == a7.max():\n",
    "        a7[i] = 0\n",
    "        break\n",
    "print(a7)"
   ]
  },
  {
   "cell_type": "markdown",
   "metadata": {},
   "source": [
    "# 9. How to print all the values of an array?"
   ]
  },
  {
   "cell_type": "code",
   "execution_count": 67,
   "metadata": {},
   "outputs": [
    {
     "name": "stdout",
     "output_type": "stream",
     "text": [
      "0.7989869458299313\n",
      "0.9271894333262499\n",
      "0.3052796782731726\n",
      "0.030813341548783013\n",
      "0.9922571738241428\n",
      "0.6705131387993613\n",
      "0.11318538556879432\n",
      "0.3716455308418021\n",
      "0.11001072709269655\n"
     ]
    }
   ],
   "source": [
    "a8=np.random.random((3,3))\n",
    "for i in range(len(a8)):\n",
    "    for j in range(len(a8)):\n",
    "        print(a8[i][j])"
   ]
  },
  {
   "cell_type": "markdown",
   "metadata": {},
   "source": [
    "# 10.Subtract the mean of each row of a matrix"
   ]
  },
  {
   "cell_type": "code",
   "execution_count": 71,
   "metadata": {},
   "outputs": [
    {
     "name": "stdout",
     "output_type": "stream",
     "text": [
      "\n",
      "\n",
      "\n",
      " [[1 2 3]\n",
      " [4 5 6]\n",
      " [7 8 9]]\n",
      "\n",
      "\n",
      "\n",
      "The list of means of each row: \n",
      " [2.0, 5.0, 8.0]\n",
      "\n",
      "\n",
      "\n",
      "Ones like a multiplied by the mean of the row: \n",
      " [[2 2 2]\n",
      " [5 5 5]\n",
      " [8 8 8]]\n",
      "\n",
      "\n",
      "\n",
      " The resulting matrix is: \n",
      " [[-1  0  1]\n",
      " [-1  0  1]\n",
      " [-1  0  1]]\n"
     ]
    }
   ],
   "source": [
    "import scipy\n",
    "from scipy import stats\n",
    "a = np.array([[1,2,3],[4,5,6],[7,8,9]])\n",
    "m = []\n",
    "\n",
    "print(\"\\n\\n\\n\",a)\n",
    "\n",
    "for i in range(a.shape[0]):\n",
    "    b = np.array(a[i])\n",
    "    m.append(np.mean(a[i]))\n",
    "o = np.ones_like(a)\n",
    "for i in range(o.shape[0]):\n",
    "    o[i] = o[i]*m[i]\n",
    "print(\"\\n\\n\\nThe list of means of each row: \\n\",m)\n",
    "print(\"\\n\\n\\nOnes like a multiplied by the mean of the row: \\n\", o)\n",
    "print(\"\\n\\n\\n The resulting matrix is: \\n\",a-o)\n"
   ]
  },
  {
   "cell_type": "markdown",
   "metadata": {},
   "source": [
    "# 11.Consider a given vector, how to add 1 to each element indexed by a second vector (be careful with repeated indices)? "
   ]
  },
  {
   "cell_type": "code",
   "execution_count": 72,
   "metadata": {},
   "outputs": [
    {
     "name": "stdout",
     "output_type": "stream",
     "text": [
      "[46 14 68 62 23  9 86 24 75 71 14 90 14 95 31 17 77  8  4 44]\n",
      "[46 14 69 62 24  9 87 24 76 71 15 90 14 95 31 17 77  8  4 44]\n"
     ]
    }
   ],
   "source": [
    "v = [2,4,6,8,10]\n",
    "\n",
    "V = np.random.randint(1,100,20)\n",
    "print(V)\n",
    "for i in v:\n",
    "    V[i] = V[i]+1\n",
    "print(V)"
   ]
  },
  {
   "cell_type": "code",
   "execution_count": null,
   "metadata": {},
   "outputs": [],
   "source": []
  },
  {
   "cell_type": "markdown",
   "metadata": {},
   "source": [
    "# 12.How to get the diagonal of a dot product?"
   ]
  },
  {
   "cell_type": "code",
   "execution_count": 78,
   "metadata": {},
   "outputs": [
    {
     "name": "stdout",
     "output_type": "stream",
     "text": [
      "The diagonal elements of the dot product are:  [0.675679894352838, 0.1850034820692046]\n"
     ]
    }
   ],
   "source": [
    "q = np.random.random((2,2))\n",
    "r = np.random.random((2,2))\n",
    "s = q.dot(r)\n",
    "l=[]\n",
    "for i in range(s.shape[0]):\n",
    "    for j in range(s.shape[1]):\n",
    "        if i ==j:\n",
    "            l.append(s[i][j])\n",
    "print(\"The diagonal elements of the dot product are: \",l)"
   ]
  },
  {
   "cell_type": "markdown",
   "metadata": {},
   "source": [
    "# 13.How to find the most frequent value in an array?"
   ]
  },
  {
   "cell_type": "code",
   "execution_count": 76,
   "metadata": {},
   "outputs": [
    {
     "name": "stdout",
     "output_type": "stream",
     "text": [
      "[ 1 15 18 18 12 11 11  8 18  4 12  6  1 11 16  9 12  2 19  1  5 12 17 13\n",
      " 16]\n",
      "ModeResult(mode=array([12]), count=array([4]))\n"
     ]
    }
   ],
   "source": [
    "from scipy import stats\n",
    "\n",
    "a = np.random.randint(1,20,25)\n",
    "print(a)\n",
    "m = stats.mode(a)\n",
    "print(m)"
   ]
  },
  {
   "cell_type": "markdown",
   "metadata": {},
   "source": [
    "# 14.How to get the n largest values of an array"
   ]
  },
  {
   "cell_type": "code",
   "execution_count": 75,
   "metadata": {},
   "outputs": [
    {
     "name": "stdout",
     "output_type": "stream",
     "text": [
      "Please enter the number of largest value's you want to see?10\n",
      "[9978 9971 9963 9953 9947 9944 9940 9918 9911 9909]\n"
     ]
    }
   ],
   "source": [
    "t = np.random.randint(1,10000,1000)\n",
    "n = int(input(\"Please enter the number of largest value's you want to see?\"))\n",
    "print ((t[np.argsort(t)[-n:]])[::-1])"
   ]
  },
  {
   "cell_type": "markdown",
   "metadata": {},
   "source": [
    "# 15.How to create a record array from a regular array?"
   ]
  },
  {
   "cell_type": "code",
   "execution_count": 77,
   "metadata": {},
   "outputs": [
    {
     "name": "stdout",
     "output_type": "stream",
     "text": [
      "[(10, 'Orange', 12.2) (20, 'Grape', 15. ) (30, 'Banana', 20. )\n",
      " (40, 'Apple', 40. )]\n"
     ]
    }
   ],
   "source": [
    "a1=np.array([10,20,30,40])\n",
    "a2=np.array(['Orange','Grape','Banana','Apple'])\n",
    "a3=np.array([12.20,15,20,40])\n",
    "result= np.core.records.fromarrays([a1, a2, a3])\n",
    "print(result)"
   ]
  },
  {
   "cell_type": "code",
   "execution_count": null,
   "metadata": {},
   "outputs": [],
   "source": []
  }
 ],
 "metadata": {
  "kernelspec": {
   "display_name": "Python 3",
   "language": "python",
   "name": "python3"
  },
  "language_info": {
   "codemirror_mode": {
    "name": "ipython",
    "version": 3
   },
   "file_extension": ".py",
   "mimetype": "text/x-python",
   "name": "python",
   "nbconvert_exporter": "python",
   "pygments_lexer": "ipython3",
   "version": "3.7.6"
  }
 },
 "nbformat": 4,
 "nbformat_minor": 2
}
