{
 "cells": [
  {
   "cell_type": "markdown",
   "metadata": {},
   "source": [
    "# Question 1"
   ]
  },
  {
   "cell_type": "code",
   "execution_count": 75,
   "metadata": {},
   "outputs": [
    {
     "name": "stdout",
     "output_type": "stream",
     "text": [
      "Input\n",
      "akki.reddy1009@gmail.com\n",
      "Company name is:  gmail\n"
     ]
    }
   ],
   "source": [
    "print(\"Input\")\n",
    "email= input(str())\n",
    "c1 = email.split(\"@\")\n",
    "c2 = c1[1]\n",
    "company= c2.split(\".\")\n",
    "print(\"Company name is: \",company[0])\n",
    "\n",
    "        \n"
   ]
  },
  {
   "cell_type": "markdown",
   "metadata": {},
   "source": [
    "# Question 2\n"
   ]
  },
  {
   "cell_type": "code",
   "execution_count": 84,
   "metadata": {},
   "outputs": [
    {
     "name": "stdout",
     "output_type": "stream",
     "text": [
      "Please Enter words separated by the comma to sort them \n",
      "dog,bat,sand,apple\n",
      "None\n",
      "apple,bat,dog,sand\n"
     ]
    }
   ],
   "source": [
    "s = input(\"Please Enter words separated by the comma to sort them \\n\")\n",
    "l = s.split(',')\n",
    "s1=''\n",
    "print(l.sort())\n",
    "\n",
    "for i in l:\n",
    "    s1 = s1 + i + ','\n",
    "print(s1[0:-1])"
   ]
  },
  {
   "cell_type": "markdown",
   "metadata": {},
   "source": [
    "# Question 3"
   ]
  },
  {
   "cell_type": "code",
   "execution_count": 130,
   "metadata": {
    "scrolled": true
   },
   "outputs": [
    {
     "name": "stdout",
     "output_type": "stream",
     "text": [
      "{4, 7, 9, 'benz', 'honda', 'Audi'}\n",
      "{4, 7, 9, 'benz', 'honda', 'Audi'}\n",
      "{4, 5, 6, 7, 9, 'benz', 'suzuki', 'honda', 'Audi'}\n",
      "9\n",
      "{4, 5, 6, 7, 9, 'benz', 'suzuki', 'honda'}\n",
      "{5, 6, 7, 9, 'benz', 'suzuki', 'honda'}\n",
      "5\n",
      "{6, 7, 9, 'benz', 'suzuki', 'honda'}\n",
      "{'suzuki', 'honda', 6, 7, 'a', 9, 'b', 'benz'}\n",
      "{6, 7, 'b', 9, 'benz', 'suzuki', 'honda', 'a'}\n",
      "{'a', 'b'}\n",
      "False\n",
      "{6, 7, 9, 'benz', 'suzuki', 'honda'}\n"
     ]
    }
   ],
   "source": [
    "ms = {4, 7, 9, \"Audi\", \"benz\", \"honda\"}\n",
    "print(ms)\n",
    "\n",
    "ms.add(4)\n",
    "print(ms)\n",
    "\n",
    "ms.update([\"suzuki\", 5, 6])\n",
    "print(ms)\n",
    "\n",
    "print(len(ms))\n",
    "\n",
    "ms.remove(\"Audi\")\n",
    "print(ms)\n",
    "\n",
    "ms.discard(4)\n",
    "print(ms)\n",
    "\n",
    "x = ms.pop()\n",
    "print(x)\n",
    "print(ms)\n",
    "\n",
    "ms_d = {'a','b'}\n",
    "ms = ms.union(ms_d)\n",
    "print(ms)\n",
    "\n",
    "cpy = ms.copy()\n",
    "print(cpy)\n",
    "\n",
    "print(ms.intersection(ms_d))\n",
    "\n",
    "print(ms.isdisjoint(ms_d))\n",
    "\n",
    "print(ms.symmetric_difference(ms_d))"
   ]
  },
  {
   "cell_type": "markdown",
   "metadata": {},
   "source": [
    "# Question 4\n"
   ]
  },
  {
   "cell_type": "code",
   "execution_count": 121,
   "metadata": {},
   "outputs": [
    {
     "name": "stdout",
     "output_type": "stream",
     "text": [
      "4 3 5 2 1 9 8 7\n",
      "The missing number in the list is  6\n"
     ]
    }
   ],
   "source": [
    "s = input()\n",
    "l = s.split(\" \")\n",
    "l.sort()\n",
    "\n",
    "length= len(l)\n",
    "\n",
    "for i in range(length):\n",
    "    if i+1 == int(l[i]):\n",
    "        continue\n",
    "    else:\n",
    "        print(\"The missing number in the list is \",i+1)\n",
    "        break\n",
    "        \n",
    "    \n",
    "\n"
   ]
  },
  {
   "cell_type": "markdown",
   "metadata": {},
   "source": [
    "# Question 5"
   ]
  },
  {
   "cell_type": "code",
   "execution_count": 129,
   "metadata": {},
   "outputs": [
    {
     "name": "stdout",
     "output_type": "stream",
     "text": [
      "88 66 67 34 54 88 129 108 129 54 21 1\n",
      "1 21 34 54 66 67 88 108 129 "
     ]
    }
   ],
   "source": [
    "s = input()\n",
    "k = s.split(' ')\n",
    "l=[]\n",
    "for i in range(len(k)):\n",
    "   l.append(int(k[i])) \n",
    "l.sort()\n",
    "m=[]\n",
    "for i in range(len(l)-1):\n",
    "    if l[i] != l[i+1]:\n",
    "        m.append(l[i])    \n",
    "m.append(l[-1])\n",
    "for i in m:\n",
    "    print(i,end=' ')"
   ]
  }
 ],
 "metadata": {
  "kernelspec": {
   "display_name": "Python 3",
   "language": "python",
   "name": "python3"
  },
  "language_info": {
   "codemirror_mode": {
    "name": "ipython",
    "version": 3
   },
   "file_extension": ".py",
   "mimetype": "text/x-python",
   "name": "python",
   "nbconvert_exporter": "python",
   "pygments_lexer": "ipython3",
   "version": "3.7.6"
  }
 },
 "nbformat": 4,
 "nbformat_minor": 4
}
