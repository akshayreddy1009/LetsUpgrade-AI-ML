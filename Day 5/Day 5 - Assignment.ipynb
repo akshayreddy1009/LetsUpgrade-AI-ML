{
 "cells": [
  {
   "cell_type": "code",
   "execution_count": 1,
   "metadata": {},
   "outputs": [
    {
     "name": "stdout",
     "output_type": "stream",
     "text": [
      "3\n",
      "5\n",
      "7\n",
      "11\n",
      "13\n",
      "17\n",
      "19\n",
      "23\n",
      "29\n",
      "31\n",
      "37\n",
      "41\n",
      "43\n",
      "47\n",
      "53\n",
      "59\n",
      "61\n",
      "67\n",
      "71\n",
      "73\n"
     ]
    }
   ],
   "source": [
    "# Q1 Write a Python program to find the first 20 non-even prime natural numbers.\n",
    "\n",
    "import sys\n",
    "cnt = 0\n",
    "count = 0\n",
    "\n",
    "for i in range(3,sys.maxsize):\n",
    "    for j in range(1,i+1):\n",
    "        if (i%j==0):\n",
    "            count = count + 1\n",
    "    if (count == 2):\n",
    "        print (i)\n",
    "        cnt = cnt + 1 \n",
    "    count = 0\n",
    "    if (cnt == 20):\n",
    "        break"
   ]
  },
  {
   "cell_type": "code",
   "execution_count": 51,
   "metadata": {},
   "outputs": [
    {
     "name": "stdout",
     "output_type": "stream",
     "text": [
      "hELLO wORLD!\n",
      "hello world!\n",
      "HELLO WORLD!\n",
      "False\n",
      "Heffo Worfd!\n",
      "12\n",
      "False\n",
      "False\n",
      "2\n",
      "True\n",
      "6\n",
      "8\n",
      "('Hello ', 'Wo', 'rld!')\n",
      "['Hello ', 'orld!']\n",
      "True\n"
     ]
    }
   ],
   "source": [
    "# Q2: Write a Python program to implement 15 functions of string.\n",
    "\n",
    "String = \"Hello World!\"\n",
    "print(String.swapcase())\n",
    "print(String.lower())\n",
    "print(String.upper())\n",
    "print(String.isalpha())\n",
    "print(String.replace('l','f'))\n",
    "print(len(String))\n",
    "print(String.isdigit())\n",
    "print(String.isspace())\n",
    "print(String.count('o'))\n",
    "print(String.endswith('!'))\n",
    "print(String.find('W'))\n",
    "print(String.index('r'))\n",
    "print(String.partition('Wo'))\n",
    "print(String.split('W'))\n",
    "print(String.startswith('H'))"
   ]
  },
  {
   "cell_type": "code",
   "execution_count": 4,
   "metadata": {},
   "outputs": [
    {
     "name": "stdout",
     "output_type": "stream",
     "text": [
      "Please enter a string 's1' to test if it is a Palindrome or Anagram or neither: \n",
      "adspads\n",
      "s1 =  adspads\n",
      "Please enter another string 's2' to test if it is a Palindrome or Anagram or neither: \n",
      "asdpdsa\n",
      "s2 =  asdpdsa\n",
      "The given string s1 is NOT a Palindrome\n",
      "The given string s2 is a Palindrome\n",
      "The given 2 strings are anagrams\n"
     ]
    }
   ],
   "source": [
    "# Q3:  Write a Python program to check if the given string is a Palindrome or Anagram or None of them.\n",
    "#Display the message accordingly to the user.\n",
    "              \n",
    "print(\"Please enter a string 's1' to test if it is a Palindrome or Anagram or neither: \")\n",
    "s1 = str(input())\n",
    "print(\"s1 = \",s1)\n",
    "print(\"Please enter another string 's2' to test if it is a Palindrome or Anagram or neither: \")\n",
    "s2 = str(input())\n",
    "print(\"s2 = \",s2)\n",
    "l1 = []\n",
    "l2 = []\n",
    "for i in range(len(s1)):\n",
    "    if s1[i] == s1[-i-1]:\n",
    "        l1.append('yes')\n",
    "for i in range(len(s2)):\n",
    "    if s2[i] == s2[-i-1]:\n",
    "        l2.append('yes')\n",
    "\n",
    "if (l1 == ['yes'] * len(s1)):\n",
    "    print(\"The given string s1 is a Palindrome\")\n",
    "else :\n",
    "    print(\"The given string s1 is NOT a Palindrome\")\n",
    "if (l2 == ['yes'] * len(s2)):\n",
    "    print(\"The given string s2 is a Palindrome\")\n",
    "else :\n",
    "    print(\"The given string s2 is NOT a Palindrome\")\n",
    "\n",
    "if sorted(s1) == sorted(s2):\n",
    "    print(\"The given 2 strings are anagrams\")\n",
    "if (l1 != ['yes'] * len(s1) and l2 != ['yes'] * len(s2) and sorted(s1) != sorted(s2)):\n",
    "    print(\"The given srings are neither Palindrome nor Anagrams\") "
   ]
  },
  {
   "cell_type": "code",
   "execution_count": 113,
   "metadata": {},
   "outputs": [
    {
     "name": "stdout",
     "output_type": "stream",
     "text": [
      "Original String: I am Akshay Reddy Student @ let's upgrade!\n",
      "Replaced string is  iamakshayreddystudentletsupgrade\n"
     ]
    }
   ],
   "source": [
    "## Question 5\n",
    "\n",
    "def str(s1):\n",
    "    print (\"Original String: \" + s1)\n",
    "    sc = \" @'!'\"\n",
    "    \n",
    "    for i in sc:\n",
    "        s1 = s1.replace(i,\"\")\n",
    "    print(\"Replaced string is \",s1.lower())\n",
    "  \n",
    "s1 =\"I am Akshay Reddy Student @ let's upgrade!\"\n",
    "str(s1)\n"
   ]
  }
 ],
 "metadata": {
  "kernelspec": {
   "display_name": "Python 3",
   "language": "python",
   "name": "python3"
  },
  "language_info": {
   "codemirror_mode": {
    "name": "ipython",
    "version": 3
   },
   "file_extension": ".py",
   "mimetype": "text/x-python",
   "name": "python",
   "nbconvert_exporter": "python",
   "pygments_lexer": "ipython3",
   "version": "3.7.6"
  }
 },
 "nbformat": 4,
 "nbformat_minor": 4
}
