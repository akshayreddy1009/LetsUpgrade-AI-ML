{
 "cells": [
  {
   "cell_type": "code",
   "execution_count": 6,
   "metadata": {},
   "outputs": [
    {
     "name": "stdout",
     "output_type": "stream",
     "text": [
      "Subtraction of a = (2+3j)  and b = (4+5j)  is c = (-2-2j)\n"
     ]
    }
   ],
   "source": [
    "# Q1: Write a program to subtract two complex numbers in Python.\n",
    "\n",
    "a= 2+3j\n",
    "b= 4+5j\n",
    "c= a-b\n",
    "print(\"Subtraction of a =\",a,\" and b =\",b,\" is c =\",c)"
   ]
  },
  {
   "cell_type": "code",
   "execution_count": 23,
   "metadata": {},
   "outputs": [
    {
     "name": "stdout",
     "output_type": "stream",
     "text": [
      "square root of n = 81  is  3.0\n"
     ]
    }
   ],
   "source": [
    "# Q2: Write a program to find the fourth root of a number.\n",
    "\n",
    "import math\n",
    "n=81\n",
    "a =math.sqrt(math.sqrt(n))\n",
    "print (\"square root of n =\",n,\" is \",a)"
   ]
  },
  {
   "cell_type": "code",
   "execution_count": 34,
   "metadata": {},
   "outputs": [
    {
     "name": "stdout",
     "output_type": "stream",
     "text": [
      "After swapping, the value of a is 4 and b is 3\n"
     ]
    }
   ],
   "source": [
    "# Q3: Write a program to swap two numbers in Python with the help of a temporary variable.\n",
    "\n",
    "a = 3\n",
    "b=4\n",
    "c=a\n",
    "a=b\n",
    "b=c\n",
    "print(\"After swapping, the value of a is\",a, \"and b is\",b)"
   ]
  },
  {
   "cell_type": "code",
   "execution_count": 30,
   "metadata": {},
   "outputs": [
    {
     "name": "stdout",
     "output_type": "stream",
     "text": [
      "After swapping without temporary variable, the value of a is 6 and the value of b is 7\n"
     ]
    }
   ],
   "source": [
    "#### Q4: Write a program to swap two numbers in Python without using a temporary variable.\n",
    "\n",
    "a=7\n",
    "b=6\n",
    "a=b-a\n",
    "b=b-a\n",
    "a=a+b\n",
    "print(\"After swapping without temporary variable, the value of a is\",a, \"and the value of b is\",b)"
   ]
  },
  {
   "cell_type": "code",
   "execution_count": 48,
   "metadata": {},
   "outputs": [
    {
     "name": "stdout",
     "output_type": "stream",
     "text": [
      "value of Tf from farenheit to kelvin is 310.77777777777777\n",
      "value of Tf from farenheit to celsius is 37.77777777777778\n"
     ]
    }
   ],
   "source": [
    "#Q5: Write a program to convert fahrenheit to kelvin and celsius both.\n",
    "\n",
    "Tf = 100\n",
    "Tk = (Tf-32)*(5/9)+273\n",
    "Tc = (Tf-32)*(5/9)\n",
    "print (\"value of Tf from farenheit to kelvin is\",Tk)\n",
    "print(\"value of Tf from farenheit to celsius is\",Tc)"
   ]
  },
  {
   "cell_type": "code",
   "execution_count": 49,
   "metadata": {},
   "outputs": [
    {
     "name": "stdout",
     "output_type": "stream",
     "text": [
      "<class 'int'>\n",
      "<class 'float'>\n",
      "<class 'complex'>\n",
      "<class 'str'>\n"
     ]
    }
   ],
   "source": [
    "#Q6: Write a program to demonstrate all the available data types in Python.\n",
    "\n",
    "print(type(3))\n",
    "print(type(2.3))\n",
    "print(type(1+3j))\n",
    "print(type(\"Hello World\"))\n"
   ]
  },
  {
   "cell_type": "markdown",
   "metadata": {},
   "source": [
    "# Q7: Create a Markdown cell in jupyter and list the steps discussed in the session by Dr. Darshan Ingle sir to create Github profile and upload Githubs Assignment link.\n",
    "\n",
    "1. Open Github and login into your profile.\n",
    "2. Create a Github public repository and name it LetsUpgrade AI/ML.\n",
    "3. click on the upload an existing file link and select the folder from your desktop with that day's assignment and drag it to upload in Github and commit changes.\n",
    "4. Copy the URL of the Folder of that day and paste in the Assignment Submission Form and fillout the google form with the requested data.\n",
    "5. Before submitting the form, please confirm if the github link is correct and public by opening the link in incognito mode.\n",
    "6. After submitting you will receive a mail with confirmation.\n",
    "\n",
    "\n"
   ]
  }
 ],
 "metadata": {
  "kernelspec": {
   "display_name": "Python 3",
   "language": "python",
   "name": "python3"
  },
  "language_info": {
   "codemirror_mode": {
    "name": "ipython",
    "version": 3
   },
   "file_extension": ".py",
   "mimetype": "text/x-python",
   "name": "python",
   "nbconvert_exporter": "python",
   "pygments_lexer": "ipython3",
   "version": "3.7.6"
  }
 },
 "nbformat": 4,
 "nbformat_minor": 4
}
